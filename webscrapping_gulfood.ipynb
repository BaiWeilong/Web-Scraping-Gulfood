{
 "cells": [
  {
   "cell_type": "code",
   "execution_count": 2,
   "metadata": {
    "id": "BH6Cy5OkeBfQ"
   },
   "outputs": [],
   "source": [
    "import requests\n",
    "import pandas as pd\n",
    "import matplotlib.pyplot as plt\n",
    "import seaborn as sns\n",
    "from bs4 import BeautifulSoup"
   ]
  },
  {
   "cell_type": "code",
   "execution_count": 3,
   "metadata": {
    "id": "FddZ6lSbeCGK"
   },
   "outputs": [],
   "source": [
    "headers = {\n",
    "    'User-Agent': 'Mozilla/5.0 (Windows NT 10.0; Win64; x64) AppleWebKit/537.36 (KHTML, like Gecko) Chrome/58.0.3029.110 Safari/537.3'}"
   ]
  },
  {
   "cell_type": "code",
   "execution_count": 4,
   "metadata": {
    "id": "RcSCNuH8frQH"
   },
   "outputs": [],
   "source": [
    "lista = [f'https://www.gulfood.com/exhibitors?page={i}'+'&sortby=title%20asc&azLetterField=' for i in range(1, 39)]"
   ]
  },
  {
   "cell_type": "code",
   "execution_count": 5,
   "metadata": {
    "id": "_U8Y2AbceOOX"
   },
   "outputs": [],
   "source": [
    "exhibitors_data = []\n",
    "for i in lista:\n",
    "    response = requests.get(i, headers=headers)\n",
    "    soup = BeautifulSoup(response.content, 'html.parser')\n",
    "    for item in soup.find_all('li', class_='m-exhibitors-list__items__item'):\n",
    "        name_tag = item.find('h2', class_='m-exhibitors-list__items__item__name')\n",
    "        name = name_tag.a.text.strip() if name_tag and name_tag.a else 'N/A'\n",
    "\n",
    "        hall_tag = item.find('div', class_='m-exhibitors-list__items__item__hall')\n",
    "        hall = hall_tag.text.strip() if hall_tag else 'N/A'\n",
    "\n",
    "        stand_tag = item.find('div', class_='m-exhibitors-list__items__item__stand')\n",
    "        stand = stand_tag.text.strip() if stand_tag else 'N/A'\n",
    "\n",
    "        country_tag = item.find('div', class_='m-exhibitors-list__items__item__location')\n",
    "        country = country_tag.text.strip() if country_tag else 'N/A'\n",
    "\n",
    "        href_tag = item.find('a', class_='m-exhibitors-list__items__item__name__link')\n",
    "        href = href_tag.get('href', '') if href_tag else ''\n",
    "    \n",
    "        href_extracted = href.split(\"'\")[1] if \"'\" in href else 'N/A'\n",
    "\n",
    "        full_url = f'https://www.gulfood.com/{href_extracted}' if href_extracted != 'N/A' else 'N/A'\n",
    "\n",
    "        exhibitors_data.append({'Name': name, 'Hall': hall, 'Stand': stand, 'Country': country, 'www_1': full_url})\n",
    "\n",
    "df = pd.DataFrame(exhibitors_data)"
   ]
  },
  {
   "cell_type": "code",
   "execution_count": 6,
   "metadata": {
    "id": "0RJJXClMTBkw"
   },
   "outputs": [],
   "source": [
    "df = df.iloc[1:]"
   ]
  },
  {
   "cell_type": "code",
   "execution_count": 8,
   "metadata": {
    "id": "qpdT8FdcVDxx"
   },
   "outputs": [],
   "source": [
    "websites = []"
   ]
  },
  {
   "cell_type": "markdown",
   "metadata": {},
   "source": [
    "**U W A G A !!! CZAS WYKONANIA OKOŁO GODZINY**  Внимание! Срок выполнения кода около часа"
   ]
  },
  {
   "cell_type": "code",
   "execution_count": 9,
   "metadata": {
    "id": "NVxnLD8ZRrXn"
   },
   "outputs": [],
   "source": [
    "for i in df['www_1']:\n",
    "    try:\n",
    "        response = requests.get(i)\n",
    "        soup = BeautifulSoup(response.content, 'html.parser')\n",
    "        website_div = soup.find('div', class_='m-exhibitor-entry__item__body__contacts__additional__website')\n",
    "        website_url = website_div.a['href'] if website_div and website_div.a else 'No URL Found'\n",
    "    except:\n",
    "        website_url = website_div.a['href'] if website_div and website_div.a else 'No URL Found'\n",
    "\n",
    "    websites.append(website_url)"
   ]
  },
  {
   "cell_type": "code",
   "execution_count": 10,
   "metadata": {
    "colab": {
     "base_uri": "https://localhost:8080/"
    },
    "id": "nEy-jCGWSb2M",
    "outputId": "fb955195-7963-4c82-a545-c84b61408beb"
   },
   "outputs": [],
   "source": [
    "df['WWW'] = websites"
   ]
  },
  {
   "cell_type": "code",
   "execution_count": 11,
   "metadata": {
    "colab": {
     "base_uri": "https://localhost:8080/",
     "height": 563
    },
    "id": "cIYPSecDZVll",
    "outputId": "f155f4fb-53ae-420f-e15a-f1f9d61af695"
   },
   "outputs": [
    {
     "data": {
      "text/html": [
       "<div>\n",
       "<style scoped>\n",
       "    .dataframe tbody tr th:only-of-type {\n",
       "        vertical-align: middle;\n",
       "    }\n",
       "\n",
       "    .dataframe tbody tr th {\n",
       "        vertical-align: top;\n",
       "    }\n",
       "\n",
       "    .dataframe thead th {\n",
       "        text-align: right;\n",
       "    }\n",
       "</style>\n",
       "<table border=\"1\" class=\"dataframe\">\n",
       "  <thead>\n",
       "    <tr style=\"text-align: right;\">\n",
       "      <th></th>\n",
       "      <th>Name</th>\n",
       "      <th>Hall</th>\n",
       "      <th>Stand</th>\n",
       "      <th>Country</th>\n",
       "      <th>www_1</th>\n",
       "      <th>WWW</th>\n",
       "    </tr>\n",
       "  </thead>\n",
       "  <tbody>\n",
       "    <tr>\n",
       "      <th>1</th>\n",
       "      <td>' Energy Sugar Company</td>\n",
       "      <td>Trade Centre Arena</td>\n",
       "      <td>S-J11</td>\n",
       "      <td>Brazil</td>\n",
       "      <td>https://www.gulfood.com/exhibitorslist-2024/en...</td>\n",
       "      <td>https://www.energy.com.br/en</td>\n",
       "    </tr>\n",
       "    <tr>\n",
       "      <th>2</th>\n",
       "      <td>\" Al Nejmah Sweets\" Ramadan Abu Lebbeh &amp; Sons ...</td>\n",
       "      <td>Shk Rashid Hall</td>\n",
       "      <td>R-130</td>\n",
       "      <td>Jordan</td>\n",
       "      <td>https://www.gulfood.com/exhibitorslist-2024/al...</td>\n",
       "      <td>https://alnejmahbayader.eshopshub.com/alnejmah...</td>\n",
       "    </tr>\n",
       "    <tr>\n",
       "      <th>3</th>\n",
       "      <td>\" Brivais Vilnis \" JSC</td>\n",
       "      <td>Trade Centre Arena</td>\n",
       "      <td>S-H7</td>\n",
       "      <td>Latvia</td>\n",
       "      <td>https://www.gulfood.com/exhibitorslist-2024/br...</td>\n",
       "      <td>http://www.brivaisvilnis.lv</td>\n",
       "    </tr>\n",
       "    <tr>\n",
       "      <th>4</th>\n",
       "      <td>\" YOOK Production AS \"</td>\n",
       "      <td>Trade Centre Arena</td>\n",
       "      <td>S-H61</td>\n",
       "      <td>Estonia</td>\n",
       "      <td>https://www.gulfood.com/exhibitorslist-2024/yo...</td>\n",
       "      <td>https://yook.eu/</td>\n",
       "    </tr>\n",
       "    <tr>\n",
       "      <th>5</th>\n",
       "      <td>\"alfa\" Athanasios. D. Koukoutaris SA</td>\n",
       "      <td>Shk Saeed Hall 1</td>\n",
       "      <td>S1-I3</td>\n",
       "      <td>Greece</td>\n",
       "      <td>https://www.gulfood.com/exhibitorslist-2024/al...</td>\n",
       "      <td>https://www.alfapastry.com</td>\n",
       "    </tr>\n",
       "    <tr>\n",
       "      <th>...</th>\n",
       "      <td>...</td>\n",
       "      <td>...</td>\n",
       "      <td>...</td>\n",
       "      <td>...</td>\n",
       "      <td>...</td>\n",
       "      <td>...</td>\n",
       "    </tr>\n",
       "    <tr>\n",
       "      <th>3833</th>\n",
       "      <td>TAMARIND HOUSE</td>\n",
       "      <td>Shk Rashid Hall</td>\n",
       "      <td>R-L10</td>\n",
       "      <td>Thailand</td>\n",
       "      <td>https://www.gulfood.com/exhibitorslist-2024/sw...</td>\n",
       "      <td>http://www.tamarindhouse.co.th</td>\n",
       "    </tr>\n",
       "    <tr>\n",
       "      <th>3834</th>\n",
       "      <td>Tamek Grup Gida Uretim A.S.</td>\n",
       "      <td>Za'abeel Hall 2</td>\n",
       "      <td>Z2-E16</td>\n",
       "      <td>Türkiye</td>\n",
       "      <td>https://www.gulfood.com/exhibitorslist-2024/ta...</td>\n",
       "      <td>https://www.tamek.com.tr/</td>\n",
       "    </tr>\n",
       "    <tr>\n",
       "      <th>3835</th>\n",
       "      <td>Tamreem</td>\n",
       "      <td>The Pavilion</td>\n",
       "      <td>T-G10</td>\n",
       "      <td>United Arab Emirates</td>\n",
       "      <td>https://www.gulfood.com/exhibitorslist-2024/ta...</td>\n",
       "      <td>https://Tamreem. Com</td>\n",
       "    </tr>\n",
       "    <tr>\n",
       "      <th>3836</th>\n",
       "      <td>Tan Do Refreshing Water Co.,Ltd - VN</td>\n",
       "      <td>Al Mustaqbal Plaza</td>\n",
       "      <td>MP-224</td>\n",
       "      <td>Viet Nam</td>\n",
       "      <td>https://www.gulfood.com/exhibitorslist-2024/ta...</td>\n",
       "      <td>https://tandobeverage.com</td>\n",
       "    </tr>\n",
       "    <tr>\n",
       "      <th>3837</th>\n",
       "      <td>Tan Phat Foods Corporation (EDISON FOODS)</td>\n",
       "      <td>Shk Maktoum Hall</td>\n",
       "      <td>M-H35</td>\n",
       "      <td>Viet Nam</td>\n",
       "      <td>https://www.gulfood.com/exhibitorslist-2024/ta...</td>\n",
       "      <td>https://tanphatfoods.com</td>\n",
       "    </tr>\n",
       "  </tbody>\n",
       "</table>\n",
       "<p>3837 rows × 6 columns</p>\n",
       "</div>"
      ],
      "text/plain": [
       "                                                   Name                Hall  \\\n",
       "1                                ' Energy Sugar Company  Trade Centre Arena   \n",
       "2     \" Al Nejmah Sweets\" Ramadan Abu Lebbeh & Sons ...     Shk Rashid Hall   \n",
       "3                                \" Brivais Vilnis \" JSC  Trade Centre Arena   \n",
       "4                                \" YOOK Production AS \"  Trade Centre Arena   \n",
       "5                  \"alfa\" Athanasios. D. Koukoutaris SA    Shk Saeed Hall 1   \n",
       "...                                                 ...                 ...   \n",
       "3833                                     TAMARIND HOUSE     Shk Rashid Hall   \n",
       "3834                        Tamek Grup Gida Uretim A.S.     Za'abeel Hall 2   \n",
       "3835                                            Tamreem        The Pavilion   \n",
       "3836               Tan Do Refreshing Water Co.,Ltd - VN  Al Mustaqbal Plaza   \n",
       "3837          Tan Phat Foods Corporation (EDISON FOODS)    Shk Maktoum Hall   \n",
       "\n",
       "       Stand               Country  \\\n",
       "1      S-J11                Brazil   \n",
       "2      R-130                Jordan   \n",
       "3       S-H7                Latvia   \n",
       "4      S-H61               Estonia   \n",
       "5      S1-I3                Greece   \n",
       "...      ...                   ...   \n",
       "3833   R-L10              Thailand   \n",
       "3834  Z2-E16               Türkiye   \n",
       "3835   T-G10  United Arab Emirates   \n",
       "3836  MP-224              Viet Nam   \n",
       "3837   M-H35              Viet Nam   \n",
       "\n",
       "                                                  www_1  \\\n",
       "1     https://www.gulfood.com/exhibitorslist-2024/en...   \n",
       "2     https://www.gulfood.com/exhibitorslist-2024/al...   \n",
       "3     https://www.gulfood.com/exhibitorslist-2024/br...   \n",
       "4     https://www.gulfood.com/exhibitorslist-2024/yo...   \n",
       "5     https://www.gulfood.com/exhibitorslist-2024/al...   \n",
       "...                                                 ...   \n",
       "3833  https://www.gulfood.com/exhibitorslist-2024/sw...   \n",
       "3834  https://www.gulfood.com/exhibitorslist-2024/ta...   \n",
       "3835  https://www.gulfood.com/exhibitorslist-2024/ta...   \n",
       "3836  https://www.gulfood.com/exhibitorslist-2024/ta...   \n",
       "3837  https://www.gulfood.com/exhibitorslist-2024/ta...   \n",
       "\n",
       "                                                    WWW  \n",
       "1                          https://www.energy.com.br/en  \n",
       "2     https://alnejmahbayader.eshopshub.com/alnejmah...  \n",
       "3                           http://www.brivaisvilnis.lv  \n",
       "4                                      https://yook.eu/  \n",
       "5                            https://www.alfapastry.com  \n",
       "...                                                 ...  \n",
       "3833                     http://www.tamarindhouse.co.th  \n",
       "3834                          https://www.tamek.com.tr/  \n",
       "3835                               https://Tamreem. Com  \n",
       "3836                          https://tandobeverage.com  \n",
       "3837                           https://tanphatfoods.com  \n",
       "\n",
       "[3837 rows x 6 columns]"
      ]
     },
     "execution_count": 11,
     "metadata": {},
     "output_type": "execute_result"
    }
   ],
   "source": [
    "df"
   ]
  },
  {
   "cell_type": "code",
   "execution_count": 12,
   "metadata": {
    "colab": {
     "base_uri": "https://localhost:8080/",
     "height": 688
    },
    "id": "sWBL-o1EZOlW",
    "outputId": "177d409f-b640-4fe0-ce7f-e20092b8e47e"
   },
   "outputs": [
    {
     "data": {
      "image/png": "[encoded data removed]",
      "text/plain": [
       "<Figure size 1000x600 with 1 Axes>"
      ]
     },
     "metadata": {},
     "output_type": "display_data"
    }
   ],
   "source": [
    "top_10_countries = df['Country'].value_counts().head(10).index\n",
    "\n",
    "df_top_10 = df[df['Country'].isin(top_10_countries)]\n",
    "\n",
    "sns.set(style=\"whitegrid\")\n",
    "\n",
    "plt.figure(figsize=(10, 6))\n",
    "ax = sns.countplot(x='Country', data=df_top_10,\n",
    "              palette=sns.color_palette(\"Blues_d\", len(top_10_countries))[::-1],\n",
    "              order=top_10_countries)\n",
    "\n",
    "plt.title('Liczba firm owocowych na kraj (Top 10)', fontsize=16)\n",
    "ax.set_xlabel('')\n",
    "ax.set_ylabel('')\n",
    "\n",
    "plt.xticks(rotation=45, ha='right')\n",
    "\n",
    "plt.tight_layout()\n",
    "plt.show()"
   ]
  },
  {
   "cell_type": "code",
   "execution_count": 16,
   "metadata": {
    "id": "Y_RnENnEWmgN"
   },
   "outputs": [],
   "source": [
    "df.to_excel('gulfood.xlsx')"
   ]
  }
 ],
 "metadata": {
  "colab": {
   "provenance": []
  },
  "kernelspec": {
   "display_name": "Python 3 (ipykernel)",
   "language": "python",
   "name": "python3"
  },
  "language_info": {
   "codemirror_mode": {
    "name": "ipython",
    "version": 3
   },
   "file_extension": ".py",
   "mimetype": "text/x-python",
   "name": "python",
   "nbconvert_exporter": "python",
   "pygments_lexer": "ipython3",
   "version": "3.11.5"
  }
 },
 "nbformat": 4,
 "nbformat_minor": 1
}
